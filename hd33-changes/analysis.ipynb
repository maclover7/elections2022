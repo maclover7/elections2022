{
 "cells": [
  {
   "cell_type": "code",
   "execution_count": 1,
   "id": "ee530ba7-b3af-4040-a84f-e0a130b350c5",
   "metadata": {},
   "outputs": [],
   "source": [
    "import geopandas as gpd\n",
    "import pandas as pd\n",
    "import json"
   ]
  },
  {
   "cell_type": "code",
   "execution_count": 2,
   "id": "22f92acd-e915-4981-8113-965aaf2ab3f0",
   "metadata": {},
   "outputs": [],
   "source": [
    "HD33_MUNICIPALITIES = [\n",
    "    'EAST DEER TWP',\n",
    "    'FAWN TWP',\n",
    "    'FRAZER TWP',\n",
    "    'HARMAR TWP',\n",
    "    'HARRISON TWP',\n",
    "    'INDIANA TWP',\n",
    "    'OHARA TWP',\n",
    "    'SPRINGDALE TWP',\n",
    "    'ASPINWALL BORO',\n",
    "    'BLAWNOX BORO',\n",
    "    'BRACKENRIDGE BORO',\n",
    "    'CHESWICK BORO',\n",
    "    'FOX CHAPEL BORO',\n",
    "    'SHARPSBURG BORO',\n",
    "    'SPRINGDALE BORO',\n",
    "    'TARENTUM BORO'\n",
    "]\n",
    "\n",
    "MUNI_TYPES = {\n",
    "    4: 'TWP',\n",
    "    6: 'BORO'\n",
    "}"
   ]
  },
  {
   "cell_type": "markdown",
   "id": "e45eb52f-f71b-4543-96a5-c46d0b8d351f",
   "metadata": {},
   "source": [
    "# Generate GeoJSON map"
   ]
  },
  {
   "cell_type": "markdown",
   "id": "4c041527-ad0c-4e0a-81a0-a38cff8f531f",
   "metadata": {},
   "source": [
    "### Standardize township class, limit municipalities to those in the district"
   ]
  },
  {
   "cell_type": "code",
   "execution_count": 18,
   "id": "21e6a8d0-dd01-49b5-8375-7a71cf065d09",
   "metadata": {},
   "outputs": [],
   "source": [
    "munis = gpd.read_file('./input/municipalities-pa.geojson')\n",
    "\n",
    "munis.loc[munis.CLASS_OF_M.isin(['1TWP', '2TWP']), 'CLASS_OF_M'] = 'TWP'\n",
    "munis['muni_name'] = munis.MUNICIPAL1 + ' ' + munis.CLASS_OF_M\n",
    "\n",
    "munis = munis[(munis.COUNTY == '02') & (munis.muni_name.isin(HD33_MUNICIPALITIES))]\n",
    "munis.to_file('./output/municipalities-hd33.geojson', driver='GeoJSON')"
   ]
  },
  {
   "cell_type": "markdown",
   "id": "8f77279a-f2aa-4bc9-af92-6387a0d80c87",
   "metadata": {},
   "source": [
    "# Generate presidential election results by municipality"
   ]
  },
  {
   "cell_type": "code",
   "execution_count": 38,
   "id": "a5fd87ee-f320-4bb5-8079-2c5ca2543b05",
   "metadata": {},
   "outputs": [],
   "source": [
    "def read_results_csv(filename):\n",
    "    results = pd.read_csv(filename,\n",
    "        names=['county', 'office', 'party', 'vote', 'muni_type', 'muni_name'],\n",
    "        usecols=[2, 8, 9, 15, 19, 20])\n",
    "\n",
    "    # Add muni type to name\n",
    "    results = results.replace({ 'O HARA': 'OHARA' })\n",
    "    results['muni_name'] = results['muni_name'] + ' ' + results['muni_type'].map(MUNI_TYPES)\n",
    "\n",
    "    return results\n",
    "\n",
    "def filter_results_to_district_munis(results):\n",
    "    return results[\n",
    "        (results.office == 'USP') &\n",
    "        (results.county == 2) &\n",
    "        (results.muni_name.isin(HD33_MUNICIPALITIES))\n",
    "    ]\n",
    "\n",
    "def sum_results_by_muni(results):\n",
    "    results_by_muni = pd.pivot_table(results, aggfunc='sum', columns='party', index='muni_name', values='vote')\n",
    "    results_by_muni = results_by_muni.fillna(0)\n",
    "\n",
    "    results_by_muni['_SUM'] = results_by_muni.sum(axis=1)\n",
    "    results_by_muni['DEM_pct'] = round(100 * (results_by_muni.DEM / results_by_muni._SUM), 1)\n",
    "    results_by_muni['REP_pct'] = round(100 * (results_by_muni.REP / results_by_muni._SUM), 1)\n",
    "    results_by_muni['OTH_pct'] = round(100 * ((results_by_muni._SUM - results_by_muni.REP - results_by_muni.DEM) / results_by_muni._SUM), 1)\n",
    "\n",
    "    return results_by_muni[['DEM_pct', 'REP_pct', 'OTH_pct']]"
   ]
  },
  {
   "cell_type": "markdown",
   "id": "f98ecd15-d939-49cd-a344-e6623cc581ce",
   "metadata": {},
   "source": [
    "### Process 2012 results"
   ]
  },
  {
   "cell_type": "code",
   "execution_count": 39,
   "id": "2191357c-f303-4ce9-8f6a-168a012a4b2b",
   "metadata": {},
   "outputs": [
    {
     "data": {
      "text/html": [
       "<div>\n",
       "<style scoped>\n",
       "    .dataframe tbody tr th:only-of-type {\n",
       "        vertical-align: middle;\n",
       "    }\n",
       "\n",
       "    .dataframe tbody tr th {\n",
       "        vertical-align: top;\n",
       "    }\n",
       "\n",
       "    .dataframe thead th {\n",
       "        text-align: right;\n",
       "    }\n",
       "</style>\n",
       "<table border=\"1\" class=\"dataframe\">\n",
       "  <thead>\n",
       "    <tr style=\"text-align: right;\">\n",
       "      <th>party</th>\n",
       "      <th>DEM_pct</th>\n",
       "      <th>REP_pct</th>\n",
       "      <th>OTH_pct</th>\n",
       "    </tr>\n",
       "    <tr>\n",
       "      <th>muni_name</th>\n",
       "      <th></th>\n",
       "      <th></th>\n",
       "      <th></th>\n",
       "    </tr>\n",
       "  </thead>\n",
       "  <tbody>\n",
       "    <tr>\n",
       "      <th>ASPINWALL BORO</th>\n",
       "      <td>54.3</td>\n",
       "      <td>43.6</td>\n",
       "      <td>2.0</td>\n",
       "    </tr>\n",
       "  </tbody>\n",
       "</table>\n",
       "</div>"
      ],
      "text/plain": [
       "party           DEM_pct  REP_pct  OTH_pct\n",
       "muni_name                                \n",
       "ASPINWALL BORO     54.3     43.6      2.0"
      ]
     },
     "execution_count": 39,
     "metadata": {},
     "output_type": "execute_result"
    }
   ],
   "source": [
    "results_2012 = read_results_csv('./input/results_2012_DOS.csv')\n",
    "results_2012 = filter_results_to_district_munis(results_2012)\n",
    "results_2012 = sum_results_by_muni(results_2012)\n",
    "results_2012.head(1)"
   ]
  },
  {
   "cell_type": "markdown",
   "id": "7eb564e8-eba1-4228-9d67-4f38073a9c77",
   "metadata": {},
   "source": [
    "### Process 2020 results"
   ]
  },
  {
   "cell_type": "code",
   "execution_count": 43,
   "id": "9fd70ba5-5d0f-45bc-a8d0-7c7ef8d3ba71",
   "metadata": {},
   "outputs": [
    {
     "data": {
      "text/html": [
       "<div>\n",
       "<style scoped>\n",
       "    .dataframe tbody tr th:only-of-type {\n",
       "        vertical-align: middle;\n",
       "    }\n",
       "\n",
       "    .dataframe tbody tr th {\n",
       "        vertical-align: top;\n",
       "    }\n",
       "\n",
       "    .dataframe thead th {\n",
       "        text-align: right;\n",
       "    }\n",
       "</style>\n",
       "<table border=\"1\" class=\"dataframe\">\n",
       "  <thead>\n",
       "    <tr style=\"text-align: right;\">\n",
       "      <th></th>\n",
       "      <th>muni_name</th>\n",
       "      <th>DEM_pct</th>\n",
       "      <th>REP_pct</th>\n",
       "      <th>OTH_pct</th>\n",
       "    </tr>\n",
       "  </thead>\n",
       "  <tbody>\n",
       "    <tr>\n",
       "      <th>0</th>\n",
       "      <td>ASPINWALL BORO</td>\n",
       "      <td>69.7</td>\n",
       "      <td>29.2</td>\n",
       "      <td>1.1</td>\n",
       "    </tr>\n",
       "  </tbody>\n",
       "</table>\n",
       "</div>"
      ],
      "text/plain": [
       "        muni_name  DEM_pct  REP_pct  OTH_pct\n",
       "0  ASPINWALL BORO     69.7     29.2      1.1"
      ]
     },
     "execution_count": 43,
     "metadata": {},
     "output_type": "execute_result"
    }
   ],
   "source": [
    "# Read in raw results from DRA, limit to district\n",
    "results_2020 = pd.read_csv('./input/results_2020_DRA.csv', usecols=['GEOID20', 'District', 'Total_2020_Pres', 'Dem_2020_Pres', 'Rep_2020_Pres'])\n",
    "results_2020 = results_2020[results_2020.District == 33]\n",
    "\n",
    "# Merge in VTD data as way to get at the municipality\n",
    "vtd = gpd.read_file('./input/allegheny_vtd/allegheny_vtd.shp')\n",
    "vtd.loc[vtd['GEOID20'] == '4200300F585', 'NAME20'] = 'SPRINGDALE TWP' # Add \"TWP\" for one-precinct Springdale Twp, to not confuse with BORO\n",
    "results_2020 = pd.merge(results_2020, vtd[['GEOID20', 'NAME20']], on='GEOID20')\n",
    "\n",
    "# Remove VTD artifacts from municipality name\n",
    "results_2020['muni_name'] = results_2020.NAME20.str.replace(r' DISTRICT.*', '', regex=True)\n",
    "results_2020['muni_name'] = results_2020.muni_name.str.replace(r' WARD.*', '', regex=True)\n",
    "results_2020 = results_2020.replace({ \"O'HARA\": 'OHARA' })\n",
    "\n",
    "# Sum results by municipality\n",
    "results_2020 = pd.pivot_table(results_2020, aggfunc='sum', index='muni_name', values=['Total_2020_Pres', 'Dem_2020_Pres', 'Rep_2020_Pres']).reset_index()\n",
    "\n",
    "# Use 2012 results from DOS to properly format municipalities in 2020 results from DRA\n",
    "munis_2012 = pd.read_csv('./input/results_2012_DOS.csv', names=['muni_type', 'muni_name'], usecols=[19, 20]).drop_duplicates()\n",
    "munis_2012 = munis_2012.replace({ 'O HARA': 'OHARA' })\n",
    "munis_2012 = munis_2012[munis_2012.muni_name.isin(results_2020.muni_name.unique())]\n",
    "munis_2012['formatted_muni_name'] = munis_2012['muni_name'] + ' ' + munis_2012['muni_type'].map(MUNI_TYPES)\n",
    "results_2020 = pd.merge(results_2020, munis[['formatted_muni_name', 'muni_name']], on='muni_name')\n",
    "\n",
    "# Calculate percentages\n",
    "results_2020['DEM_pct'] = round(100 * (results_2020.Dem_2020_Pres / results_2020.Total_2020_Pres), 1)\n",
    "results_2020['REP_pct'] = round(100 * (results_2020.Rep_2020_Pres / results_2020.Total_2020_Pres), 1)\n",
    "results_2020['OTH_pct'] = round(100 * ((results_2020.Total_2020_Pres - results_2020.Rep_2020_Pres - results_2020.Dem_2020_Pres) / results_2020.Total_2020_Pres), 1)\n",
    "\n",
    "# Limit columns\n",
    "results_2020 = results_2020[['formatted_muni_name', 'DEM_pct', 'REP_pct', 'OTH_pct']]\n",
    "results_2020 = results_2020.rename(columns={ 'formatted_muni_name': 'muni_name' })\n",
    "results_2020.head(1)"
   ]
  },
  {
   "cell_type": "markdown",
   "id": "ce16f0c0-d9ba-4d23-94db-f2d5cec27452",
   "metadata": {},
   "source": [
    "### Merge, compare 2012 and 2020 results"
   ]
  },
  {
   "cell_type": "code",
   "execution_count": 45,
   "id": "e91dccc3-679c-44bc-ac9c-31445b911610",
   "metadata": {},
   "outputs": [
    {
     "data": {
      "text/html": [
       "<div>\n",
       "<style scoped>\n",
       "    .dataframe tbody tr th:only-of-type {\n",
       "        vertical-align: middle;\n",
       "    }\n",
       "\n",
       "    .dataframe tbody tr th {\n",
       "        vertical-align: top;\n",
       "    }\n",
       "\n",
       "    .dataframe thead th {\n",
       "        text-align: right;\n",
       "    }\n",
       "</style>\n",
       "<table border=\"1\" class=\"dataframe\">\n",
       "  <thead>\n",
       "    <tr style=\"text-align: right;\">\n",
       "      <th></th>\n",
       "      <th>muni_name</th>\n",
       "      <th>DEM_pct_2012</th>\n",
       "      <th>REP_pct_2012</th>\n",
       "      <th>OTH_pct_2012</th>\n",
       "      <th>DEM_pct_2020</th>\n",
       "      <th>REP_pct_2020</th>\n",
       "      <th>OTH_pct_2020</th>\n",
       "      <th>DEM_pct_diff</th>\n",
       "    </tr>\n",
       "  </thead>\n",
       "  <tbody>\n",
       "    <tr>\n",
       "      <th>0</th>\n",
       "      <td>ASPINWALL BORO</td>\n",
       "      <td>54.3</td>\n",
       "      <td>43.6</td>\n",
       "      <td>2.0</td>\n",
       "      <td>69.7</td>\n",
       "      <td>29.2</td>\n",
       "      <td>1.1</td>\n",
       "      <td>15.4</td>\n",
       "    </tr>\n",
       "  </tbody>\n",
       "</table>\n",
       "</div>"
      ],
      "text/plain": [
       "        muni_name  DEM_pct_2012  REP_pct_2012  OTH_pct_2012  DEM_pct_2020  \\\n",
       "0  ASPINWALL BORO          54.3          43.6           2.0          69.7   \n",
       "\n",
       "   REP_pct_2020  OTH_pct_2020  DEM_pct_diff  \n",
       "0          29.2           1.1          15.4  "
      ]
     },
     "execution_count": 45,
     "metadata": {},
     "output_type": "execute_result"
    }
   ],
   "source": [
    "diff_2012_2020 = pd.merge(results_2012, results_2020, on='muni_name', suffixes=['_2012', '_2020'])\n",
    "diff_2012_2020['DEM_pct_diff'] = round(diff_2012_2020.DEM_pct_2020 - diff_2012_2020.DEM_pct_2012, 1)\n",
    "diff_2012_2020.head(1)"
   ]
  },
  {
   "cell_type": "markdown",
   "id": "275c5b79-a094-4e6c-af5e-9c620bcd3444",
   "metadata": {},
   "source": [
    "### Dump results comparison into CSV file"
   ]
  },
  {
   "cell_type": "code",
   "execution_count": 46,
   "id": "2a49aaa8-c825-43fb-a7ef-bf406aaeba1e",
   "metadata": {},
   "outputs": [],
   "source": [
    "diff_2012_2020.to_csv('./output/diff_2012_2020.csv', index=False)"
   ]
  }
 ],
 "metadata": {
  "kernelspec": {
   "display_name": "Python 3 (ipykernel)",
   "language": "python",
   "name": "python3"
  },
  "language_info": {
   "codemirror_mode": {
    "name": "ipython",
    "version": 3
   },
   "file_extension": ".py",
   "mimetype": "text/x-python",
   "name": "python",
   "nbconvert_exporter": "python",
   "pygments_lexer": "ipython3",
   "version": "3.9.15"
  }
 },
 "nbformat": 4,
 "nbformat_minor": 5
}
