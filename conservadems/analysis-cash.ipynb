{
 "cells": [
  {
   "cell_type": "code",
   "execution_count": 1,
   "id": "a195beed-cb3e-46d9-8de8-5878323273cc",
   "metadata": {},
   "outputs": [],
   "source": [
    "import pandas as pd"
   ]
  },
  {
   "cell_type": "code",
   "execution_count": 2,
   "id": "ee0efe0b-11f4-46df-bd8b-939bdd4132a7",
   "metadata": {},
   "outputs": [],
   "source": [
    "def print_expenditures(df, candidate_name, supported):\n",
    "    expenditures = df[\n",
    "        (df['Candidate'].str.contains(candidate_name)) &\n",
    "        (df['Supported '] == supported)\n",
    "    ][['Name of Organization', 'Amount ']]\n",
    "\n",
    "    print(expenditures['Amount '].sum())\n",
    "    return expenditures.groupby('Name of Organization').sum('Amount ')"
   ]
  },
  {
   "cell_type": "markdown",
   "id": "44d26282-c663-4e35-967f-6c02bd85985f",
   "metadata": {},
   "source": [
    "### Import independent expenditure data"
   ]
  },
  {
   "cell_type": "code",
   "execution_count": 3,
   "id": "1b5bb605-6420-448d-9e7d-77b5352f2238",
   "metadata": {},
   "outputs": [],
   "source": [
    "df = pd.read_csv('input/indep_expend.csv')\n",
    "df = df[df.Election == '2022 General Election (11/08/2022)']\n",
    "\n",
    "df = df.rename(columns={'Name of Candidate or Question ': 'Candidate'})\n",
    "\n",
    "df['Candidate'] = df.Candidate.str.upper()\n",
    "df['Name of Organization'] = df['Name of Organization'].str.upper()"
   ]
  },
  {
   "cell_type": "markdown",
   "id": "c8dd1274-2342-4aa1-9d32-d6b9acd2ea97",
   "metadata": {},
   "source": [
    "### HD7 -- Republican Parke Wentling"
   ]
  },
  {
   "cell_type": "code",
   "execution_count": 4,
   "id": "5663bf5f-3884-4c1e-b44e-0900fa40a8b7",
   "metadata": {},
   "outputs": [
    {
     "name": "stdout",
     "output_type": "stream",
     "text": [
      "160634.66999999998\n"
     ]
    },
    {
     "data": {
      "text/html": [
       "<div>\n",
       "<style scoped>\n",
       "    .dataframe tbody tr th:only-of-type {\n",
       "        vertical-align: middle;\n",
       "    }\n",
       "\n",
       "    .dataframe tbody tr th {\n",
       "        vertical-align: top;\n",
       "    }\n",
       "\n",
       "    .dataframe thead th {\n",
       "        text-align: right;\n",
       "    }\n",
       "</style>\n",
       "<table border=\"1\" class=\"dataframe\">\n",
       "  <thead>\n",
       "    <tr style=\"text-align: right;\">\n",
       "      <th></th>\n",
       "      <th>Amount</th>\n",
       "    </tr>\n",
       "    <tr>\n",
       "      <th>Name of Organization</th>\n",
       "      <th></th>\n",
       "    </tr>\n",
       "  </thead>\n",
       "  <tbody>\n",
       "    <tr>\n",
       "      <th>AMERICANS FOR PROSPERITY</th>\n",
       "      <td>5971.44</td>\n",
       "    </tr>\n",
       "    <tr>\n",
       "      <th>GUN OWNERS OF AMERICA INC COMMITTEE</th>\n",
       "      <td>138.50</td>\n",
       "    </tr>\n",
       "    <tr>\n",
       "      <th>PA FAMILY COUNCIL</th>\n",
       "      <td>15200.00</td>\n",
       "    </tr>\n",
       "    <tr>\n",
       "      <th>PA FAMILY PAC</th>\n",
       "      <td>2324.73</td>\n",
       "    </tr>\n",
       "    <tr>\n",
       "      <th>PENNSYLVANIA CHAMBER OF BUSINESS AND INDUSTRY</th>\n",
       "      <td>129000.00</td>\n",
       "    </tr>\n",
       "    <tr>\n",
       "      <th>PENNSYLVANIA FAMILY COUNCIL</th>\n",
       "      <td>8000.00</td>\n",
       "    </tr>\n",
       "  </tbody>\n",
       "</table>\n",
       "</div>"
      ],
      "text/plain": [
       "                                                  Amount \n",
       "Name of Organization                                     \n",
       "AMERICANS FOR PROSPERITY                          5971.44\n",
       "GUN OWNERS OF AMERICA INC COMMITTEE                138.50\n",
       "PA FAMILY COUNCIL                                15200.00\n",
       "PA FAMILY PAC                                     2324.73\n",
       "PENNSYLVANIA CHAMBER OF BUSINESS AND INDUSTRY   129000.00\n",
       "PENNSYLVANIA FAMILY COUNCIL                       8000.00"
      ]
     },
     "execution_count": 4,
     "metadata": {},
     "output_type": "execute_result"
    }
   ],
   "source": [
    "print_expenditures(df, candidate_name='WENTLING', supported='YES ')"
   ]
  },
  {
   "cell_type": "code",
   "execution_count": 5,
   "id": "baf4d539-15c8-483b-82ce-e65a281da255",
   "metadata": {},
   "outputs": [
    {
     "name": "stdout",
     "output_type": "stream",
     "text": [
      "0.0\n"
     ]
    },
    {
     "data": {
      "text/html": [
       "<div>\n",
       "<style scoped>\n",
       "    .dataframe tbody tr th:only-of-type {\n",
       "        vertical-align: middle;\n",
       "    }\n",
       "\n",
       "    .dataframe tbody tr th {\n",
       "        vertical-align: top;\n",
       "    }\n",
       "\n",
       "    .dataframe thead th {\n",
       "        text-align: right;\n",
       "    }\n",
       "</style>\n",
       "<table border=\"1\" class=\"dataframe\">\n",
       "  <thead>\n",
       "    <tr style=\"text-align: right;\">\n",
       "      <th></th>\n",
       "      <th>Amount</th>\n",
       "    </tr>\n",
       "    <tr>\n",
       "      <th>Name of Organization</th>\n",
       "      <th></th>\n",
       "    </tr>\n",
       "  </thead>\n",
       "  <tbody>\n",
       "  </tbody>\n",
       "</table>\n",
       "</div>"
      ],
      "text/plain": [
       "Empty DataFrame\n",
       "Columns: [Amount ]\n",
       "Index: []"
      ]
     },
     "execution_count": 5,
     "metadata": {},
     "output_type": "execute_result"
    }
   ],
   "source": [
    "print_expenditures(df, candidate_name='WENTLING', supported='NO ')"
   ]
  },
  {
   "cell_type": "markdown",
   "id": "bddc37fd-9490-488b-908f-17fb0673837e",
   "metadata": {},
   "source": [
    "### HD7 -- Democrat Tim McGonigle"
   ]
  },
  {
   "cell_type": "code",
   "execution_count": 6,
   "id": "ccd1ff0e-43bb-429c-b7c1-94d0ca634c56",
   "metadata": {},
   "outputs": [
    {
     "name": "stdout",
     "output_type": "stream",
     "text": [
      "3000.0\n"
     ]
    },
    {
     "data": {
      "text/html": [
       "<div>\n",
       "<style scoped>\n",
       "    .dataframe tbody tr th:only-of-type {\n",
       "        vertical-align: middle;\n",
       "    }\n",
       "\n",
       "    .dataframe tbody tr th {\n",
       "        vertical-align: top;\n",
       "    }\n",
       "\n",
       "    .dataframe thead th {\n",
       "        text-align: right;\n",
       "    }\n",
       "</style>\n",
       "<table border=\"1\" class=\"dataframe\">\n",
       "  <thead>\n",
       "    <tr style=\"text-align: right;\">\n",
       "      <th></th>\n",
       "      <th>Amount</th>\n",
       "    </tr>\n",
       "    <tr>\n",
       "      <th>Name of Organization</th>\n",
       "      <th></th>\n",
       "    </tr>\n",
       "  </thead>\n",
       "  <tbody>\n",
       "    <tr>\n",
       "      <th>WORKING AMERICA</th>\n",
       "      <td>3000.0</td>\n",
       "    </tr>\n",
       "  </tbody>\n",
       "</table>\n",
       "</div>"
      ],
      "text/plain": [
       "                      Amount \n",
       "Name of Organization         \n",
       "WORKING AMERICA        3000.0"
      ]
     },
     "execution_count": 6,
     "metadata": {},
     "output_type": "execute_result"
    }
   ],
   "source": [
    "print_expenditures(df, candidate_name='MCGONIGLE', supported='YES ')"
   ]
  },
  {
   "cell_type": "code",
   "execution_count": 7,
   "id": "02142f98-15fd-443e-bbe5-5b59719ef780",
   "metadata": {},
   "outputs": [
    {
     "name": "stdout",
     "output_type": "stream",
     "text": [
      "0.0\n"
     ]
    },
    {
     "data": {
      "text/html": [
       "<div>\n",
       "<style scoped>\n",
       "    .dataframe tbody tr th:only-of-type {\n",
       "        vertical-align: middle;\n",
       "    }\n",
       "\n",
       "    .dataframe tbody tr th {\n",
       "        vertical-align: top;\n",
       "    }\n",
       "\n",
       "    .dataframe thead th {\n",
       "        text-align: right;\n",
       "    }\n",
       "</style>\n",
       "<table border=\"1\" class=\"dataframe\">\n",
       "  <thead>\n",
       "    <tr style=\"text-align: right;\">\n",
       "      <th></th>\n",
       "      <th>Amount</th>\n",
       "    </tr>\n",
       "    <tr>\n",
       "      <th>Name of Organization</th>\n",
       "      <th></th>\n",
       "    </tr>\n",
       "  </thead>\n",
       "  <tbody>\n",
       "  </tbody>\n",
       "</table>\n",
       "</div>"
      ],
      "text/plain": [
       "Empty DataFrame\n",
       "Columns: [Amount ]\n",
       "Index: []"
      ]
     },
     "execution_count": 7,
     "metadata": {},
     "output_type": "execute_result"
    }
   ],
   "source": [
    "print_expenditures(df, candidate_name='MCGONIGLE', supported='NO ')"
   ]
  },
  {
   "cell_type": "markdown",
   "id": "f3869910-f13e-4c57-a8ee-2ec1be5815c2",
   "metadata": {},
   "source": [
    "### HD9 -- Republican Marla Brown"
   ]
  },
  {
   "cell_type": "code",
   "execution_count": 8,
   "id": "61d0dc40-9bd6-4894-ab02-c076092d7189",
   "metadata": {},
   "outputs": [
    {
     "name": "stdout",
     "output_type": "stream",
     "text": [
      "163927.77\n"
     ]
    },
    {
     "data": {
      "text/html": [
       "<div>\n",
       "<style scoped>\n",
       "    .dataframe tbody tr th:only-of-type {\n",
       "        vertical-align: middle;\n",
       "    }\n",
       "\n",
       "    .dataframe tbody tr th {\n",
       "        vertical-align: top;\n",
       "    }\n",
       "\n",
       "    .dataframe thead th {\n",
       "        text-align: right;\n",
       "    }\n",
       "</style>\n",
       "<table border=\"1\" class=\"dataframe\">\n",
       "  <thead>\n",
       "    <tr style=\"text-align: right;\">\n",
       "      <th></th>\n",
       "      <th>Amount</th>\n",
       "    </tr>\n",
       "    <tr>\n",
       "      <th>Name of Organization</th>\n",
       "      <th></th>\n",
       "    </tr>\n",
       "  </thead>\n",
       "  <tbody>\n",
       "    <tr>\n",
       "      <th>AMERICANS FOR PROSPERITY</th>\n",
       "      <td>25927.77</td>\n",
       "    </tr>\n",
       "    <tr>\n",
       "      <th>PENNSYLVANIA CHAMBER OF BUSINESS AND INDUSTRY</th>\n",
       "      <td>138000.00</td>\n",
       "    </tr>\n",
       "  </tbody>\n",
       "</table>\n",
       "</div>"
      ],
      "text/plain": [
       "                                                  Amount \n",
       "Name of Organization                                     \n",
       "AMERICANS FOR PROSPERITY                         25927.77\n",
       "PENNSYLVANIA CHAMBER OF BUSINESS AND INDUSTRY   138000.00"
      ]
     },
     "execution_count": 8,
     "metadata": {},
     "output_type": "execute_result"
    }
   ],
   "source": [
    "print_expenditures(df, candidate_name='MARLA', supported='YES ')"
   ]
  },
  {
   "cell_type": "code",
   "execution_count": 9,
   "id": "75920f67-c3b9-4795-a877-3fd21cf32f66",
   "metadata": {},
   "outputs": [
    {
     "name": "stdout",
     "output_type": "stream",
     "text": [
      "11222.7\n"
     ]
    },
    {
     "data": {
      "text/html": [
       "<div>\n",
       "<style scoped>\n",
       "    .dataframe tbody tr th:only-of-type {\n",
       "        vertical-align: middle;\n",
       "    }\n",
       "\n",
       "    .dataframe tbody tr th {\n",
       "        vertical-align: top;\n",
       "    }\n",
       "\n",
       "    .dataframe thead th {\n",
       "        text-align: right;\n",
       "    }\n",
       "</style>\n",
       "<table border=\"1\" class=\"dataframe\">\n",
       "  <thead>\n",
       "    <tr style=\"text-align: right;\">\n",
       "      <th></th>\n",
       "      <th>Amount</th>\n",
       "    </tr>\n",
       "    <tr>\n",
       "      <th>Name of Organization</th>\n",
       "      <th></th>\n",
       "    </tr>\n",
       "  </thead>\n",
       "  <tbody>\n",
       "    <tr>\n",
       "      <th></th>\n",
       "      <td>1015.92</td>\n",
       "    </tr>\n",
       "    <tr>\n",
       "      <th>N/A</th>\n",
       "      <td>10206.78</td>\n",
       "    </tr>\n",
       "  </tbody>\n",
       "</table>\n",
       "</div>"
      ],
      "text/plain": [
       "                       Amount \n",
       "Name of Organization          \n",
       "                       1015.92\n",
       "N/A                   10206.78"
      ]
     },
     "execution_count": 9,
     "metadata": {},
     "output_type": "execute_result"
    }
   ],
   "source": [
    "print_expenditures(df, candidate_name='MARLA', supported='NO ')"
   ]
  },
  {
   "cell_type": "markdown",
   "id": "97b26255-8265-4b32-83d0-8b2cc252987a",
   "metadata": {},
   "source": [
    "### HD9 -- Democrat Chris Sainato"
   ]
  },
  {
   "cell_type": "code",
   "execution_count": 10,
   "id": "089c7ed5-a594-4796-9ced-3fb948e6c1b4",
   "metadata": {},
   "outputs": [
    {
     "name": "stdout",
     "output_type": "stream",
     "text": [
      "3000.0\n"
     ]
    },
    {
     "data": {
      "text/html": [
       "<div>\n",
       "<style scoped>\n",
       "    .dataframe tbody tr th:only-of-type {\n",
       "        vertical-align: middle;\n",
       "    }\n",
       "\n",
       "    .dataframe tbody tr th {\n",
       "        vertical-align: top;\n",
       "    }\n",
       "\n",
       "    .dataframe thead th {\n",
       "        text-align: right;\n",
       "    }\n",
       "</style>\n",
       "<table border=\"1\" class=\"dataframe\">\n",
       "  <thead>\n",
       "    <tr style=\"text-align: right;\">\n",
       "      <th></th>\n",
       "      <th>Amount</th>\n",
       "    </tr>\n",
       "    <tr>\n",
       "      <th>Name of Organization</th>\n",
       "      <th></th>\n",
       "    </tr>\n",
       "  </thead>\n",
       "  <tbody>\n",
       "    <tr>\n",
       "      <th>WORKING AMERICA</th>\n",
       "      <td>3000.0</td>\n",
       "    </tr>\n",
       "  </tbody>\n",
       "</table>\n",
       "</div>"
      ],
      "text/plain": [
       "                      Amount \n",
       "Name of Organization         \n",
       "WORKING AMERICA        3000.0"
      ]
     },
     "execution_count": 10,
     "metadata": {},
     "output_type": "execute_result"
    }
   ],
   "source": [
    "print_expenditures(df, candidate_name='SAINATO', supported='YES ')"
   ]
  },
  {
   "cell_type": "code",
   "execution_count": 11,
   "id": "c10a22ac-2a2c-41e1-ab29-34dba1140c66",
   "metadata": {},
   "outputs": [
    {
     "name": "stdout",
     "output_type": "stream",
     "text": [
      "1131.19\n"
     ]
    },
    {
     "data": {
      "text/html": [
       "<div>\n",
       "<style scoped>\n",
       "    .dataframe tbody tr th:only-of-type {\n",
       "        vertical-align: middle;\n",
       "    }\n",
       "\n",
       "    .dataframe tbody tr th {\n",
       "        vertical-align: top;\n",
       "    }\n",
       "\n",
       "    .dataframe thead th {\n",
       "        text-align: right;\n",
       "    }\n",
       "</style>\n",
       "<table border=\"1\" class=\"dataframe\">\n",
       "  <thead>\n",
       "    <tr style=\"text-align: right;\">\n",
       "      <th></th>\n",
       "      <th>Amount</th>\n",
       "    </tr>\n",
       "    <tr>\n",
       "      <th>Name of Organization</th>\n",
       "      <th></th>\n",
       "    </tr>\n",
       "  </thead>\n",
       "  <tbody>\n",
       "    <tr>\n",
       "      <th>AMERICANS FOR PROSPERITY</th>\n",
       "      <td>1131.19</td>\n",
       "    </tr>\n",
       "  </tbody>\n",
       "</table>\n",
       "</div>"
      ],
      "text/plain": [
       "                           Amount \n",
       "Name of Organization              \n",
       "AMERICANS FOR PROSPERITY   1131.19"
      ]
     },
     "execution_count": 11,
     "metadata": {},
     "output_type": "execute_result"
    }
   ],
   "source": [
    "print_expenditures(df, candidate_name='SAINATO', supported='NO ')"
   ]
  }
 ],
 "metadata": {
  "kernelspec": {
   "display_name": "Python 3 (ipykernel)",
   "language": "python",
   "name": "python3"
  },
  "language_info": {
   "codemirror_mode": {
    "name": "ipython",
    "version": 3
   },
   "file_extension": ".py",
   "mimetype": "text/x-python",
   "name": "python",
   "nbconvert_exporter": "python",
   "pygments_lexer": "ipython3",
   "version": "3.9.15"
  }
 },
 "nbformat": 4,
 "nbformat_minor": 5
}
