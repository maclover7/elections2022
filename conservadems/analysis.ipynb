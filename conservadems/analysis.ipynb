{
 "cells": [
  {
   "cell_type": "code",
   "execution_count": 1,
   "id": "b05caf18-dec5-4aba-8e19-1d01c01993b2",
   "metadata": {},
   "outputs": [],
   "source": [
    "import geopandas as gpd"
   ]
  },
  {
   "cell_type": "code",
   "execution_count": 2,
   "id": "06459ef7-8f98-41c7-89d0-e940bcfeaff0",
   "metadata": {},
   "outputs": [],
   "source": [
    "HD72_MUNICIPALITIES = [\n",
    "    'JOHNSTOWN CITY',\n",
    "    'BLACKLICK TWP',\n",
    "    'CAMBRIA TWP',\n",
    "    'CONEMAUGH TWP',\n",
    "    'CROYLE TWP',\n",
    "    'EAST TAYLOR TWP',\n",
    "    'JACKSON TWP',\n",
    "    'LOWER YODER TWP',\n",
    "    'MIDDLE TAYLOR TWP',\n",
    "    'UPPER YODER TWP',\n",
    "    'WEST TAYLOR TWP',\n",
    "    'BROWNSTOWN BORO',\n",
    "    'DAISYTOWN BORO',\n",
    "    'DALE BORO',\n",
    "    'EAST CONEMAUGH BORO',\n",
    "    'EBENSBURG BORO',\n",
    "    'EHRENFELD BORO',\n",
    "    'FRANKLIN BORO',\n",
    "    'LORAIN BORO',\n",
    "    'NANTY GLO BORO',\n",
    "    'SOUTHMONT BORO',\n",
    "    'SUMMERHILL BORO',\n",
    "    'VINTONDALE BORO',\n",
    "    'WESTMONT BORO'\n",
    "]"
   ]
  },
  {
   "cell_type": "markdown",
   "id": "d46525df-abb4-4b73-926d-0ff55e07d3c5",
   "metadata": {},
   "source": [
    "# Generate GeoJSON map"
   ]
  },
  {
   "cell_type": "markdown",
   "id": "bca1bad2-ad50-4d04-9332-09de1cd99b48",
   "metadata": {},
   "source": [
    "### Standardize township class, limit municipalities to those in the district"
   ]
  },
  {
   "cell_type": "code",
   "execution_count": 3,
   "id": "ab6f5217-e75a-44ee-a172-28668303b764",
   "metadata": {},
   "outputs": [],
   "source": [
    "munis = gpd.read_file('./input/municipalities-pa.geojson')\n",
    "\n",
    "munis.loc[munis.CLASS_OF_M.isin(['1TWP', '2TWP']), 'CLASS_OF_M'] = 'TWP'\n",
    "munis['muni_name'] = munis.MUNICIPAL1 + ' ' + munis.CLASS_OF_M\n",
    "\n",
    "munis = munis[(munis.FIPS_COUNT == '021') & (munis.muni_name.isin(HD72_MUNICIPALITIES))]\n",
    "munis.to_file('./output/municipalities-hd72.geojson', driver='GeoJSON')"
   ]
  }
 ],
 "metadata": {
  "kernelspec": {
   "display_name": "Python 3 (ipykernel)",
   "language": "python",
   "name": "python3"
  },
  "language_info": {
   "codemirror_mode": {
    "name": "ipython",
    "version": 3
   },
   "file_extension": ".py",
   "mimetype": "text/x-python",
   "name": "python",
   "nbconvert_exporter": "python",
   "pygments_lexer": "ipython3",
   "version": "3.9.15"
  }
 },
 "nbformat": 4,
 "nbformat_minor": 5
}
