{
 "cells": [
  {
   "cell_type": "code",
   "execution_count": 1,
   "id": "b05caf18-dec5-4aba-8e19-1d01c01993b2",
   "metadata": {},
   "outputs": [],
   "source": [
    "import geopandas as gpd\n",
    "import pandas as pd\n",
    "import requests"
   ]
  },
  {
   "cell_type": "code",
   "execution_count": 2,
   "id": "06459ef7-8f98-41c7-89d0-e940bcfeaff0",
   "metadata": {},
   "outputs": [],
   "source": [
    "CLARITY_BASE_URL = 'https://results.enr.clarityelections.com/PA/Cambria/116141/%s'\n",
    "\n",
    "CLARITY_HEADERS = {\n",
    "    'User-Agent': 'Mozilla/5.0 (Macintosh; Intel Mac OS X 10_15_7) AppleWebKit/537.36 (KHTML, like Gecko) Chrome/106.0.0.0 Safari/537.36'\n",
    "}\n",
    "\n",
    "HD72_MUNICIPALITIES = pd.DataFrame(\n",
    "    columns=['muni_name', 'formatted_muni_name'],\n",
    "    data=[\n",
    "    ['JOHNSTOWN', 'JOHNSTOWN CITY'],\n",
    "    ['BLACKLICK', 'BLACKLICK TWP'],\n",
    "    ['CAMBRIA', 'CAMBRIA TWP'],\n",
    "    ['CONEMAUGH', 'CONEMAUGH TWP'],\n",
    "    ['CROYLE', 'CROYLE TWP'],\n",
    "    ['EAST TAYLOR', 'EAST TAYLOR TWP'],\n",
    "    ['JACKSON', 'JACKSON TWP'],\n",
    "    ['LOWER YODER', 'LOWER YODER TWP'],\n",
    "    ['MIDDLE TAYLOR', 'MIDDLE TAYLOR TWP'],\n",
    "    ['UPPER YODER', 'UPPER YODER TWP'],\n",
    "    ['WEST TAYLOR', 'WEST TAYLOR TWP'],\n",
    "    ['BROWNSTOWN', 'BROWNSTOWN BORO'],\n",
    "    ['DAISYTOWN', 'DAISYTOWN BORO'],\n",
    "    ['DALE', 'DALE BORO'],\n",
    "    ['EAST CONEMAUGH', 'EAST CONEMAUGH BORO'],\n",
    "    ['EBENSBURG', 'EBENSBURG BORO'],\n",
    "    ['EHRENFELD', 'EHRENFELD BORO'],\n",
    "    ['FRANKLIN', 'FRANKLIN BORO'],\n",
    "    ['LORAIN', 'LORAIN BORO'],\n",
    "    ['NANTY GLO', 'NANTY GLO BORO'],\n",
    "    ['SOUTHMONT', 'SOUTHMONT BORO'],\n",
    "    ['SUMMERHILL', 'SUMMERHILL BORO'],\n",
    "    ['VINTONDALE', 'VINTONDALE BORO'],\n",
    "    ['WESTMONT', 'WESTMONT BORO']\n",
    "])"
   ]
  },
  {
   "cell_type": "markdown",
   "id": "d46525df-abb4-4b73-926d-0ff55e07d3c5",
   "metadata": {},
   "source": [
    "# Generate GeoJSON map"
   ]
  },
  {
   "cell_type": "markdown",
   "id": "bca1bad2-ad50-4d04-9332-09de1cd99b48",
   "metadata": {},
   "source": [
    "### Standardize township class, limit municipalities to those in the district"
   ]
  },
  {
   "cell_type": "code",
   "execution_count": 3,
   "id": "ab6f5217-e75a-44ee-a172-28668303b764",
   "metadata": {},
   "outputs": [],
   "source": [
    "munis = gpd.read_file('./input/municipalities-pa.geojson')\n",
    "\n",
    "munis.loc[munis.CLASS_OF_M.isin(['1TWP', '2TWP']), 'CLASS_OF_M'] = 'TWP'\n",
    "munis['muni_name'] = munis.MUNICIPAL1 + ' ' + munis.CLASS_OF_M\n",
    "\n",
    "munis = munis[(munis.FIPS_COUNT == '021') & (munis.muni_name.isin(HD72_MUNICIPALITIES.formatted_muni_name))]\n",
    "munis.to_file('./output/municipalities-hd72.geojson', driver='GeoJSON')"
   ]
  },
  {
   "cell_type": "markdown",
   "id": "8616a66d-15c3-466b-ab93-ef2210a5cbb4",
   "metadata": {},
   "source": [
    "# Generate election results by municipality"
   ]
  },
  {
   "cell_type": "markdown",
   "id": "35be8ad9-3a38-49b0-9cc7-679913da4204",
   "metadata": {},
   "source": [
    "### Process 2020 presidential election, via DRA"
   ]
  },
  {
   "cell_type": "code",
   "execution_count": 4,
   "id": "7b884691-cfe3-481a-8010-b4a2018fc07b",
   "metadata": {},
   "outputs": [
    {
     "data": {
      "text/html": [
       "<div>\n",
       "<style scoped>\n",
       "    .dataframe tbody tr th:only-of-type {\n",
       "        vertical-align: middle;\n",
       "    }\n",
       "\n",
       "    .dataframe tbody tr th {\n",
       "        vertical-align: top;\n",
       "    }\n",
       "\n",
       "    .dataframe thead th {\n",
       "        text-align: right;\n",
       "    }\n",
       "</style>\n",
       "<table border=\"1\" class=\"dataframe\">\n",
       "  <thead>\n",
       "    <tr style=\"text-align: right;\">\n",
       "      <th></th>\n",
       "      <th>muni_name</th>\n",
       "      <th>DEM_pct</th>\n",
       "      <th>REP_pct</th>\n",
       "      <th>OTH_pct</th>\n",
       "    </tr>\n",
       "  </thead>\n",
       "  <tbody>\n",
       "    <tr>\n",
       "      <th>0</th>\n",
       "      <td>BLACKLICK TWP</td>\n",
       "      <td>24.6</td>\n",
       "      <td>74.7</td>\n",
       "      <td>0.8</td>\n",
       "    </tr>\n",
       "  </tbody>\n",
       "</table>\n",
       "</div>"
      ],
      "text/plain": [
       "       muni_name  DEM_pct  REP_pct  OTH_pct\n",
       "0  BLACKLICK TWP     24.6     74.7      0.8"
      ]
     },
     "execution_count": 4,
     "metadata": {},
     "output_type": "execute_result"
    }
   ],
   "source": [
    "# Read in raw results from DRA, limit to district\n",
    "results_2020 = pd.read_csv('./input/results_2020_DRA.csv', usecols=['GEOID20', 'District', 'Total_2020_Pres', 'Dem_2020_Pres', 'Rep_2020_Pres'])\n",
    "results_2020 = results_2020[results_2020.District == 72]\n",
    "\n",
    "# Merge in VTD data as way to get at the municipality\n",
    "vtd = gpd.read_file('./input/cambria_vtd/cambria_vtd.shp')\n",
    "results_2020 = pd.merge(results_2020, vtd[['GEOID20', 'NAME20']], on='GEOID20')\n",
    "\n",
    "# Remove VTD artifacts from municipality name\n",
    "results_2020['muni_name'] = results_2020.NAME20.str.replace(r' DISTRICT.*', '', regex=True)\n",
    "results_2020['muni_name'] = results_2020.muni_name.str.replace(r' WARD.*', '', regex=True)\n",
    "\n",
    "# Sum results by municipality\n",
    "results_2020 = pd.pivot_table(results_2020, aggfunc='sum', index='muni_name', values=['Total_2020_Pres', 'Dem_2020_Pres', 'Rep_2020_Pres']).reset_index()\n",
    "\n",
    "# Properly format municipality name\n",
    "results_2020 = pd.merge(results_2020, HD72_MUNICIPALITIES[['formatted_muni_name', 'muni_name']], on='muni_name')\n",
    "\n",
    "# Calculate percentages\n",
    "results_2020['DEM_pct'] = round(100 * (results_2020.Dem_2020_Pres / results_2020.Total_2020_Pres), 1)\n",
    "results_2020['REP_pct'] = round(100 * (results_2020.Rep_2020_Pres / results_2020.Total_2020_Pres), 1)\n",
    "results_2020['OTH_pct'] = round(100 * ((results_2020.Total_2020_Pres - results_2020.Rep_2020_Pres - results_2020.Dem_2020_Pres) / results_2020.Total_2020_Pres), 1)\n",
    "\n",
    "# Limit columns\n",
    "results_2020 = results_2020[['formatted_muni_name', 'DEM_pct', 'REP_pct', 'OTH_pct']]\n",
    "results_2020 = results_2020.rename(columns={ 'formatted_muni_name': 'muni_name' })\n",
    "results_2020.head(1)"
   ]
  },
  {
   "cell_type": "markdown",
   "id": "19132dbb-c3f4-4cd1-807c-5f9b401f7746",
   "metadata": {},
   "source": [
    "### Process 2022 house election, via Clarity"
   ]
  },
  {
   "cell_type": "code",
   "execution_count": 5,
   "id": "55471047-c157-4f56-a5a0-a3caeb978ead",
   "metadata": {},
   "outputs": [
    {
     "data": {
      "text/html": [
       "<div>\n",
       "<style scoped>\n",
       "    .dataframe tbody tr th:only-of-type {\n",
       "        vertical-align: middle;\n",
       "    }\n",
       "\n",
       "    .dataframe tbody tr th {\n",
       "        vertical-align: top;\n",
       "    }\n",
       "\n",
       "    .dataframe thead th {\n",
       "        text-align: right;\n",
       "    }\n",
       "</style>\n",
       "<table border=\"1\" class=\"dataframe\">\n",
       "  <thead>\n",
       "    <tr style=\"text-align: right;\">\n",
       "      <th></th>\n",
       "      <th>muni_name</th>\n",
       "      <th>DEM_pct</th>\n",
       "      <th>REP_pct</th>\n",
       "      <th>OTH_pct</th>\n",
       "    </tr>\n",
       "  </thead>\n",
       "  <tbody>\n",
       "    <tr>\n",
       "      <th>0</th>\n",
       "      <td>BLACKLICK TWP</td>\n",
       "      <td>45.3</td>\n",
       "      <td>54.7</td>\n",
       "      <td>0.0</td>\n",
       "    </tr>\n",
       "  </tbody>\n",
       "</table>\n",
       "</div>"
      ],
      "text/plain": [
       "       muni_name  DEM_pct  REP_pct  OTH_pct\n",
       "0  BLACKLICK TWP     45.3     54.7      0.0"
      ]
     },
     "execution_count": 5,
     "metadata": {},
     "output_type": "execute_result"
    }
   ],
   "source": [
    "# Get current version and results\n",
    "current_version = requests.get(CLARITY_BASE_URL % 'current_ver.txt', headers=CLARITY_HEADERS).text\n",
    "results_2022 = requests.get(CLARITY_BASE_URL % ('%s/json/ALL.json' % current_version), headers=CLARITY_HEADERS).json()\n",
    "\n",
    "# Convert precincts to workable results\n",
    "def convert_precinct(precinct):\n",
    "    if '0008' not in precinct['C'] or precinct['A'] == '-1':\n",
    "        return None\n",
    "\n",
    "    totals = precinct['V'][precinct['C'].index('0008')]\n",
    "    return [precinct['A'], totals[0], totals[1], totals[0] + totals[1] + totals[2]]\n",
    "\n",
    "results_2022 = list(map(convert_precinct, results_2022['Contests']))\n",
    "results_2022 = [r for r in results_2022 if r is not None]\n",
    "\n",
    "# Convert to dataframe\n",
    "results_2022 = pd.DataFrame(columns=['precinct_name', 'dem_total', 'rep_total', 'precinct_total'], data=results_2022)\n",
    "\n",
    "# Try to backdoor into municipality name\n",
    "results_2022['precinct_name'] = results_2022.precinct_name.str.upper()\n",
    "results_2022['muni_name'] = results_2022.precinct_name.str.replace(r' TOWNSHIP.*', '', regex=True)\n",
    "results_2022['muni_name'] = results_2022.muni_name.str.replace(r' BOROUGH.*', '', regex=True)\n",
    "results_2022.loc[results_2022.muni_name.str.contains('JOHNSTOWN'), 'muni_name'] = 'JOHNSTOWN'\n",
    "\n",
    "# Sum results by municipality\n",
    "results_2022 = pd.pivot_table(results_2022, aggfunc='sum', index='muni_name', values=['precinct_total', 'dem_total', 'rep_total']).reset_index()\n",
    "\n",
    "# Properly format municipality name\n",
    "results_2022 = pd.merge(results_2022, HD72_MUNICIPALITIES[['formatted_muni_name', 'muni_name']], on='muni_name')\n",
    "\n",
    "# Calculate percentages\n",
    "results_2022['DEM_pct'] = round(100 * (results_2022.dem_total / results_2022.precinct_total), 1)\n",
    "results_2022['REP_pct'] = round(100 * (results_2022.rep_total / results_2022.precinct_total), 1)\n",
    "results_2022['OTH_pct'] = round(100 * ((results_2022.precinct_total - results_2022.rep_total - results_2022.dem_total) / results_2022.precinct_total), 1)\n",
    "\n",
    "# Limit columns\n",
    "results_2022 = results_2022[['formatted_muni_name', 'DEM_pct', 'REP_pct', 'OTH_pct']]\n",
    "results_2022 = results_2022.rename(columns={ 'formatted_muni_name': 'muni_name' })\n",
    "\n",
    "results_2022.head(1)"
   ]
  }
 ],
 "metadata": {
  "kernelspec": {
   "display_name": "Python 3 (ipykernel)",
   "language": "python",
   "name": "python3"
  },
  "language_info": {
   "codemirror_mode": {
    "name": "ipython",
    "version": 3
   },
   "file_extension": ".py",
   "mimetype": "text/x-python",
   "name": "python",
   "nbconvert_exporter": "python",
   "pygments_lexer": "ipython3",
   "version": "3.9.15"
  }
 },
 "nbformat": 4,
 "nbformat_minor": 5
}
