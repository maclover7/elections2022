{
 "cells": [
  {
   "cell_type": "code",
   "execution_count": 1,
   "id": "7e596817-d704-4082-85c5-c40ac0aaa066",
   "metadata": {},
   "outputs": [],
   "source": [
    "import pandas as pd\n",
    "import requests"
   ]
  },
  {
   "cell_type": "code",
   "execution_count": 2,
   "id": "d5534ba0-724b-42eb-ba10-884942f0655e",
   "metadata": {},
   "outputs": [],
   "source": [
    "df = pd.DataFrame(columns=['year', 'voted_count', 'registered_count', 'voted_pct'])"
   ]
  },
  {
   "cell_type": "markdown",
   "id": "3bb9cd98-fe8c-4d2b-ad9f-60a7255b050c",
   "metadata": {},
   "source": [
    "### Add in manually calculated 2014-15 results "
   ]
  },
  {
   "cell_type": "code",
   "execution_count": 3,
   "id": "eb3716e9-ef5b-484c-a620-3c38c63dffa6",
   "metadata": {},
   "outputs": [],
   "source": [
    "df.loc[len(df.index)] = ['2014', 2980, 18049, 100 * (2980/18049)]\n",
    "df.loc[len(df.index)] = ['2015', 1578, 16492, 100 * (1578/16492)]"
   ]
  },
  {
   "cell_type": "markdown",
   "id": "b6f336e2-a885-48b4-a56b-cc881f0a3023",
   "metadata": {},
   "source": [
    "### Scrape 2016-21 results from county system"
   ]
  },
  {
   "cell_type": "code",
   "execution_count": 4,
   "id": "6717a3de-9ab2-4722-8f4d-a2a90bf29815",
   "metadata": {},
   "outputs": [],
   "source": [
    "ELECTIONS = {\n",
    "    '2016': 'https://results.enr.clarityelections.com/PA/Allegheny/63905/193472/json/status.json',\n",
    "    '2017': 'https://results.enr.clarityelections.com/PA/Allegheny/71801/193474/json/status.json',\n",
    "    '2018': 'https://results.enr.clarityelections.com/PA/Allegheny/92253/222754/json/status.json',\n",
    "    '2019': 'https://results.enr.clarityelections.com//PA/Allegheny/98378/258755/json/status.json',\n",
    "    '2020': 'https://results.enr.clarityelections.com//PA/Allegheny/106267/272321/json/status.json',\n",
    "    '2021': 'https://results.enr.clarityelections.com/PA/Allegheny/111176/285575/json/status.json'\n",
    "}"
   ]
  },
  {
   "cell_type": "code",
   "execution_count": 5,
   "id": "4bac59a5-697a-4a46-88da-b9b1051d6b7b",
   "metadata": {},
   "outputs": [],
   "source": [
    "for election_year in ELECTIONS:\n",
    "    r = requests.get(ELECTIONS[election_year], headers={\n",
    "        'User-Agent': 'Mozilla/5.0 (Macintosh; Intel Mac OS X 10_15_7) AppleWebKit/537.36 (KHTML, like Gecko) Chrome/106.0.0.0 Safari/537.36'\n",
    "      }).json()\n",
    "    \n",
    "    precinct_names = [ precinct for precinct in r['P'] if 'Pittsburgh Ward 4' in precinct or 'PITTSBURGH WARD 4' in precinct ]\n",
    "    precinct_indices = [ r['P'].index(precinct_name) for precinct_name in precinct_names ]\n",
    "\n",
    "    voted = 0\n",
    "    registered = 0\n",
    "\n",
    "    for precinct_index in precinct_indices:\n",
    "        voted += r['B'][precinct_index]\n",
    "        registered += r['R'][precinct_index]\n",
    "\n",
    "    df.loc[len(df.index)] = [election_year, voted, registered, 100 * (voted/registered)]"
   ]
  },
  {
   "cell_type": "markdown",
   "id": "6b64cd3e-4717-4b9d-9eb4-f9a5832660a5",
   "metadata": {},
   "source": [
    "### Output results"
   ]
  },
  {
   "cell_type": "code",
   "execution_count": 6,
   "id": "b0adb33f-f965-47ce-8329-6002c86b9215",
   "metadata": {},
   "outputs": [
    {
     "data": {
      "text/html": [
       "<div>\n",
       "<style scoped>\n",
       "    .dataframe tbody tr th:only-of-type {\n",
       "        vertical-align: middle;\n",
       "    }\n",
       "\n",
       "    .dataframe tbody tr th {\n",
       "        vertical-align: top;\n",
       "    }\n",
       "\n",
       "    .dataframe thead th {\n",
       "        text-align: right;\n",
       "    }\n",
       "</style>\n",
       "<table border=\"1\" class=\"dataframe\">\n",
       "  <thead>\n",
       "    <tr style=\"text-align: right;\">\n",
       "      <th></th>\n",
       "      <th>year</th>\n",
       "      <th>voted_count</th>\n",
       "      <th>registered_count</th>\n",
       "      <th>voted_pct</th>\n",
       "    </tr>\n",
       "  </thead>\n",
       "  <tbody>\n",
       "    <tr>\n",
       "      <th>0</th>\n",
       "      <td>2014</td>\n",
       "      <td>2980</td>\n",
       "      <td>18049</td>\n",
       "      <td>16.510610</td>\n",
       "    </tr>\n",
       "    <tr>\n",
       "      <th>1</th>\n",
       "      <td>2015</td>\n",
       "      <td>1578</td>\n",
       "      <td>16492</td>\n",
       "      <td>9.568276</td>\n",
       "    </tr>\n",
       "    <tr>\n",
       "      <th>2</th>\n",
       "      <td>2016</td>\n",
       "      <td>11340</td>\n",
       "      <td>21142</td>\n",
       "      <td>53.637310</td>\n",
       "    </tr>\n",
       "    <tr>\n",
       "      <th>3</th>\n",
       "      <td>2017</td>\n",
       "      <td>1838</td>\n",
       "      <td>20743</td>\n",
       "      <td>8.860821</td>\n",
       "    </tr>\n",
       "    <tr>\n",
       "      <th>4</th>\n",
       "      <td>2018</td>\n",
       "      <td>7575</td>\n",
       "      <td>21266</td>\n",
       "      <td>35.620239</td>\n",
       "    </tr>\n",
       "    <tr>\n",
       "      <th>5</th>\n",
       "      <td>2019</td>\n",
       "      <td>2661</td>\n",
       "      <td>22088</td>\n",
       "      <td>12.047265</td>\n",
       "    </tr>\n",
       "    <tr>\n",
       "      <th>6</th>\n",
       "      <td>2020</td>\n",
       "      <td>8274</td>\n",
       "      <td>16795</td>\n",
       "      <td>49.264662</td>\n",
       "    </tr>\n",
       "    <tr>\n",
       "      <th>7</th>\n",
       "      <td>2021</td>\n",
       "      <td>2063</td>\n",
       "      <td>16191</td>\n",
       "      <td>12.741647</td>\n",
       "    </tr>\n",
       "  </tbody>\n",
       "</table>\n",
       "</div>"
      ],
      "text/plain": [
       "   year  voted_count  registered_count  voted_pct\n",
       "0  2014         2980             18049  16.510610\n",
       "1  2015         1578             16492   9.568276\n",
       "2  2016        11340             21142  53.637310\n",
       "3  2017         1838             20743   8.860821\n",
       "4  2018         7575             21266  35.620239\n",
       "5  2019         2661             22088  12.047265\n",
       "6  2020         8274             16795  49.264662\n",
       "7  2021         2063             16191  12.741647"
      ]
     },
     "execution_count": 6,
     "metadata": {},
     "output_type": "execute_result"
    }
   ],
   "source": [
    "df"
   ]
  },
  {
   "cell_type": "code",
   "execution_count": 7,
   "id": "3efe0a13-694c-470b-9c1b-4df126486c88",
   "metadata": {},
   "outputs": [],
   "source": [
    "df[['year', 'voted_pct']].to_csv('pgh-ward-4.csv', index=False)"
   ]
  }
 ],
 "metadata": {
  "kernelspec": {
   "display_name": "Python 3 (ipykernel)",
   "language": "python",
   "name": "python3"
  },
  "language_info": {
   "codemirror_mode": {
    "name": "ipython",
    "version": 3
   },
   "file_extension": ".py",
   "mimetype": "text/x-python",
   "name": "python",
   "nbconvert_exporter": "python",
   "pygments_lexer": "ipython3",
   "version": "3.9.15"
  }
 },
 "nbformat": 4,
 "nbformat_minor": 5
}
