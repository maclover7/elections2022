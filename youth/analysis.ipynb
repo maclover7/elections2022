{
 "cells": [
  {
   "cell_type": "code",
   "execution_count": 1,
   "id": "7e596817-d704-4082-85c5-c40ac0aaa066",
   "metadata": {},
   "outputs": [],
   "source": [
    "import pandas as pd\n",
    "import requests"
   ]
  },
  {
   "cell_type": "code",
   "execution_count": 2,
   "id": "d5534ba0-724b-42eb-ba10-884942f0655e",
   "metadata": {},
   "outputs": [],
   "source": [
    "df = pd.DataFrame(columns=['year', 'voted_count', 'registered_count', 'voted_pct'])"
   ]
  },
  {
   "cell_type": "markdown",
   "id": "3bb9cd98-fe8c-4d2b-ad9f-60a7255b050c",
   "metadata": {},
   "source": [
    "### Add in manually calculated 2007-15 results "
   ]
  },
  {
   "cell_type": "code",
   "execution_count": 3,
   "id": "eb3716e9-ef5b-484c-a620-3c38c63dffa6",
   "metadata": {},
   "outputs": [],
   "source": [
    "df.loc[len(df.index)] = ['2007', 2425, 15008, 100 * (2425/15008)]\n",
    "df.loc[len(df.index)] = ['2008', 11459, 19850, 100 * (11459/19850)]\n",
    "df.loc[len(df.index)] = ['2009', 1894, 17570, 100 * (1894/17570)]\n",
    "df.loc[len(df.index)] = ['2010', 4718, 18604, 100 * (4718/18604)]\n",
    "df.loc[len(df.index)] = ['2011', 1886, 17840, 100 * (1886/17840)]\n",
    "df.loc[len(df.index)] = ['2012', 10082, 20689, 100 * (10082/20689)]\n",
    "df.loc[len(df.index)] = ['2013', 1432, 14565, 100 * (1432/14565)]\n",
    "df.loc[len(df.index)] = ['2014', 2980, 18049, 100 * (2980/18049)]\n",
    "df.loc[len(df.index)] = ['2015', 1578, 16492, 100 * (1578/16492)]"
   ]
  },
  {
   "cell_type": "markdown",
   "id": "b6f336e2-a885-48b4-a56b-cc881f0a3023",
   "metadata": {},
   "source": [
    "### Scrape 2016-21 results from county system"
   ]
  },
  {
   "cell_type": "code",
   "execution_count": 4,
   "id": "6717a3de-9ab2-4722-8f4d-a2a90bf29815",
   "metadata": {},
   "outputs": [],
   "source": [
    "ELECTIONS = {\n",
    "    '2016': 'https://results.enr.clarityelections.com/PA/Allegheny/63905/193472/json/status.json',\n",
    "    '2017': 'https://results.enr.clarityelections.com/PA/Allegheny/71801/193474/json/status.json',\n",
    "    '2018': 'https://results.enr.clarityelections.com/PA/Allegheny/92253/222754/json/status.json',\n",
    "    '2019': 'https://results.enr.clarityelections.com//PA/Allegheny/98378/258755/json/status.json',\n",
    "    '2020': 'https://results.enr.clarityelections.com//PA/Allegheny/106267/272321/json/status.json',\n",
    "    '2021': 'https://results.enr.clarityelections.com/PA/Allegheny/111176/285575/json/status.json',\n",
    "    '2022': 'https://results.enr.clarityelections.com/PA/Allegheny/115752/312821/json/status.json'\n",
    "}"
   ]
  },
  {
   "cell_type": "code",
   "execution_count": 5,
   "id": "4bac59a5-697a-4a46-88da-b9b1051d6b7b",
   "metadata": {},
   "outputs": [
    {
     "name": "stdout",
     "output_type": "stream",
     "text": [
      "['Pittsburgh Ward 4 Dist 1', 43, 227, 18.94273127753304]\n",
      "['Pittsburgh Ward 4 Dist 2', 331, 1023, 32.355816226783965]\n",
      "['Pittsburgh Ward 4 Dist 3', 462, 1349, 34.24759080800593]\n",
      "['Pittsburgh Ward 4 Dist 4', 553, 1589, 34.801762114537446]\n",
      "['Pittsburgh Ward 4 Dist 5', 856, 2560, 33.4375]\n",
      "['Pittsburgh Ward 4 Dist 6', 1040, 3307, 31.44844269730874]\n",
      "['Pittsburgh Ward 4 Dist 7', 1744, 5577, 31.271292809754346]\n",
      "['Pittsburgh Ward 4 Dist 8', 2427, 8187, 29.644558446317333]\n",
      "['Pittsburgh Ward 4 Dist 9', 2851, 9142, 31.18573616276526]\n",
      "['Pittsburgh Ward 4 Dist 10', 3096, 9788, 31.63056804250102]\n",
      "['Pittsburgh Ward 4 Dist 11', 3490, 10371, 33.6515283000675]\n",
      "['Pittsburgh Ward 4 Dist 12', 3781, 11055, 34.20171867933062]\n",
      "['Pittsburgh Ward 4 Dist 13', 3992, 11717, 34.07015447640181]\n",
      "['Pittsburgh Ward 4 Dist 14', 4441, 13216, 33.60320823244552]\n",
      "['Pittsburgh Ward 4 Dist 15', 4789, 14263, 33.5763864544626]\n",
      "['Pittsburgh Ward 4 Dist 16', 5302, 15762, 33.637863215328004]\n",
      "['Pittsburgh Ward 4 Dist 17', 5613, 16407, 34.21100749680014]\n",
      "['Pittsburgh Ward 4 Dist 18', 5845, 17106, 34.169297322576874]\n",
      "['Pittsburgh Ward 4 Dist 19', 5936, 17416, 34.08360128617363]\n"
     ]
    }
   ],
   "source": [
    "for election_year in ELECTIONS:\n",
    "    r = requests.get(ELECTIONS[election_year], headers={\n",
    "        'User-Agent': 'Mozilla/5.0 (Macintosh; Intel Mac OS X 10_15_7) AppleWebKit/537.36 (KHTML, like Gecko) Chrome/106.0.0.0 Safari/537.36'\n",
    "      }).json()\n",
    "    \n",
    "    precinct_names = [ precinct for precinct in r['P'] if 'Pittsburgh Ward 4' in precinct or 'PITTSBURGH WARD 4' in precinct ]\n",
    "    precinct_indices = [ r['P'].index(precinct_name) for precinct_name in precinct_names ]\n",
    "\n",
    "    voted = 0\n",
    "    registered = 0\n",
    "\n",
    "    for precinct_index in precinct_indices:\n",
    "        voted += r['B'][precinct_index]\n",
    "        registered += r['R'][precinct_index]\n",
    "        \n",
    "        if election_year == '2022':\n",
    "            print([r['P'][precinct_index], voted, registered, 100 * (voted/registered)])\n",
    "\n",
    "    df.loc[len(df.index)] = [election_year, voted, registered, 100 * (voted/registered)]"
   ]
  },
  {
   "cell_type": "markdown",
   "id": "6b64cd3e-4717-4b9d-9eb4-f9a5832660a5",
   "metadata": {},
   "source": [
    "### Output results"
   ]
  },
  {
   "cell_type": "code",
   "execution_count": 6,
   "id": "b0adb33f-f965-47ce-8329-6002c86b9215",
   "metadata": {},
   "outputs": [
    {
     "data": {
      "text/html": [
       "<div>\n",
       "<style scoped>\n",
       "    .dataframe tbody tr th:only-of-type {\n",
       "        vertical-align: middle;\n",
       "    }\n",
       "\n",
       "    .dataframe tbody tr th {\n",
       "        vertical-align: top;\n",
       "    }\n",
       "\n",
       "    .dataframe thead th {\n",
       "        text-align: right;\n",
       "    }\n",
       "</style>\n",
       "<table border=\"1\" class=\"dataframe\">\n",
       "  <thead>\n",
       "    <tr style=\"text-align: right;\">\n",
       "      <th></th>\n",
       "      <th>year</th>\n",
       "      <th>voted_count</th>\n",
       "      <th>registered_count</th>\n",
       "      <th>voted_pct</th>\n",
       "    </tr>\n",
       "  </thead>\n",
       "  <tbody>\n",
       "    <tr>\n",
       "      <th>0</th>\n",
       "      <td>2007</td>\n",
       "      <td>2425</td>\n",
       "      <td>15008</td>\n",
       "      <td>16.158049</td>\n",
       "    </tr>\n",
       "    <tr>\n",
       "      <th>1</th>\n",
       "      <td>2008</td>\n",
       "      <td>11459</td>\n",
       "      <td>19850</td>\n",
       "      <td>57.727960</td>\n",
       "    </tr>\n",
       "    <tr>\n",
       "      <th>2</th>\n",
       "      <td>2009</td>\n",
       "      <td>1894</td>\n",
       "      <td>17570</td>\n",
       "      <td>10.779738</td>\n",
       "    </tr>\n",
       "    <tr>\n",
       "      <th>3</th>\n",
       "      <td>2010</td>\n",
       "      <td>4718</td>\n",
       "      <td>18604</td>\n",
       "      <td>25.360138</td>\n",
       "    </tr>\n",
       "    <tr>\n",
       "      <th>4</th>\n",
       "      <td>2011</td>\n",
       "      <td>1886</td>\n",
       "      <td>17840</td>\n",
       "      <td>10.571749</td>\n",
       "    </tr>\n",
       "    <tr>\n",
       "      <th>5</th>\n",
       "      <td>2012</td>\n",
       "      <td>10082</td>\n",
       "      <td>20689</td>\n",
       "      <td>48.731210</td>\n",
       "    </tr>\n",
       "    <tr>\n",
       "      <th>6</th>\n",
       "      <td>2013</td>\n",
       "      <td>1432</td>\n",
       "      <td>14565</td>\n",
       "      <td>9.831789</td>\n",
       "    </tr>\n",
       "    <tr>\n",
       "      <th>7</th>\n",
       "      <td>2014</td>\n",
       "      <td>2980</td>\n",
       "      <td>18049</td>\n",
       "      <td>16.510610</td>\n",
       "    </tr>\n",
       "    <tr>\n",
       "      <th>8</th>\n",
       "      <td>2015</td>\n",
       "      <td>1578</td>\n",
       "      <td>16492</td>\n",
       "      <td>9.568276</td>\n",
       "    </tr>\n",
       "    <tr>\n",
       "      <th>9</th>\n",
       "      <td>2016</td>\n",
       "      <td>11340</td>\n",
       "      <td>21142</td>\n",
       "      <td>53.637310</td>\n",
       "    </tr>\n",
       "    <tr>\n",
       "      <th>10</th>\n",
       "      <td>2017</td>\n",
       "      <td>1838</td>\n",
       "      <td>20743</td>\n",
       "      <td>8.860821</td>\n",
       "    </tr>\n",
       "    <tr>\n",
       "      <th>11</th>\n",
       "      <td>2018</td>\n",
       "      <td>7575</td>\n",
       "      <td>21266</td>\n",
       "      <td>35.620239</td>\n",
       "    </tr>\n",
       "    <tr>\n",
       "      <th>12</th>\n",
       "      <td>2019</td>\n",
       "      <td>2661</td>\n",
       "      <td>22088</td>\n",
       "      <td>12.047265</td>\n",
       "    </tr>\n",
       "    <tr>\n",
       "      <th>13</th>\n",
       "      <td>2020</td>\n",
       "      <td>8274</td>\n",
       "      <td>16795</td>\n",
       "      <td>49.264662</td>\n",
       "    </tr>\n",
       "    <tr>\n",
       "      <th>14</th>\n",
       "      <td>2021</td>\n",
       "      <td>2063</td>\n",
       "      <td>16191</td>\n",
       "      <td>12.741647</td>\n",
       "    </tr>\n",
       "    <tr>\n",
       "      <th>15</th>\n",
       "      <td>2022</td>\n",
       "      <td>5936</td>\n",
       "      <td>17416</td>\n",
       "      <td>34.083601</td>\n",
       "    </tr>\n",
       "  </tbody>\n",
       "</table>\n",
       "</div>"
      ],
      "text/plain": [
       "    year  voted_count  registered_count  voted_pct\n",
       "0   2007         2425             15008  16.158049\n",
       "1   2008        11459             19850  57.727960\n",
       "2   2009         1894             17570  10.779738\n",
       "3   2010         4718             18604  25.360138\n",
       "4   2011         1886             17840  10.571749\n",
       "5   2012        10082             20689  48.731210\n",
       "6   2013         1432             14565   9.831789\n",
       "7   2014         2980             18049  16.510610\n",
       "8   2015         1578             16492   9.568276\n",
       "9   2016        11340             21142  53.637310\n",
       "10  2017         1838             20743   8.860821\n",
       "11  2018         7575             21266  35.620239\n",
       "12  2019         2661             22088  12.047265\n",
       "13  2020         8274             16795  49.264662\n",
       "14  2021         2063             16191  12.741647\n",
       "15  2022         5936             17416  34.083601"
      ]
     },
     "execution_count": 6,
     "metadata": {},
     "output_type": "execute_result"
    }
   ],
   "source": [
    "df"
   ]
  },
  {
   "cell_type": "code",
   "execution_count": 7,
   "id": "3efe0a13-694c-470b-9c1b-4df126486c88",
   "metadata": {},
   "outputs": [],
   "source": [
    "df[['year', 'voted_pct']].to_csv('pgh-ward-4.csv', index=False)"
   ]
  }
 ],
 "metadata": {
  "kernelspec": {
   "display_name": "Python 3 (ipykernel)",
   "language": "python",
   "name": "python3"
  },
  "language_info": {
   "codemirror_mode": {
    "name": "ipython",
    "version": 3
   },
   "file_extension": ".py",
   "mimetype": "text/x-python",
   "name": "python",
   "nbconvert_exporter": "python",
   "pygments_lexer": "ipython3",
   "version": "3.9.15"
  }
 },
 "nbformat": 4,
 "nbformat_minor": 5
}
